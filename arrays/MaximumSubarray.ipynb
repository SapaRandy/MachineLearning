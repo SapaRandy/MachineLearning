{
 "cells": [
  {
   "cell_type": "code",
   "execution_count": null,
   "metadata": {
    "vscode": {
     "languageId": "plaintext"
    }
   },
   "outputs": [],
   "source": [
    "class Solution(object):\n",
    "    def maxSubArray(self, nums):\n",
    "        \"\"\"\n",
    "        :type nums: List[int]\n",
    "        :rtype: int\n",
    "        \"\"\"\n",
    "        \n",
    "        maxSum = nums[0] \n",
    "        currentSum = nums[0]\n",
    "\n",
    "        for num in nums[1:]:\n",
    "            currentSum = max(num,currentSum + num)\n",
    "            maxSum = max(maxSum,currentSum)\n",
    "        return maxSum"
   ]
  }
 ],
 "metadata": {
  "language_info": {
   "name": "python"
  }
 },
 "nbformat": 4,
 "nbformat_minor": 2
}
