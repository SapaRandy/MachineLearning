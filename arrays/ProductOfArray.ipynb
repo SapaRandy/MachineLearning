{
 "cells": [
  {
   "cell_type": "code",
   "execution_count": null,
   "metadata": {
    "vscode": {
     "languageId": "plaintext"
    }
   },
   "outputs": [],
   "source": [
    "class Solution(object):\n",
    "    def productExceptSelf(self, nums):\n",
    "        \"\"\"\n",
    "        :type nums: List[int]\n",
    "        :rtype: List[int]\n",
    "        \"\"\"\n",
    "       \n",
    "        product = 1\n",
    "        tab = []\n",
    "        def except_self(liste,index):\n",
    "            if index == 0:\n",
    "                return liste[1:]\n",
    "            if index == len(liste)-1:\n",
    "                return liste[:-1]\n",
    "            else:\n",
    "                return liste[:index] + liste[index+1:]\n",
    "        \n",
    "        \n",
    "        for index,num in enumerate(nums):\n",
    "            newCase = except_self(nums, index)\n",
    "            for i in newCase:\n",
    "                product *= i\n",
    "            tab.append(product)\n",
    "            product = 1\n",
    "        return tab"
   ]
  },
  {
   "cell_type": "code",
   "execution_count": null,
   "metadata": {
    "vscode": {
     "languageId": "plaintext"
    }
   },
   "outputs": [],
   "source": []
  }
 ],
 "metadata": {
  "language_info": {
   "name": "python"
  }
 },
 "nbformat": 4,
 "nbformat_minor": 2
}
