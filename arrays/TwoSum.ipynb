{
 "cells": [
  {
   "cell_type": "code",
   "execution_count": null,
   "metadata": {
    "vscode": {
     "languageId": "plaintext"
    }
   },
   "outputs": [],
   "source": [
    "class Solution(object):\n",
    "    def twoSum(self, nums, target):\n",
    "        \"\"\"\n",
    "        :type nums: List[int]\n",
    "        :type target: int\n",
    "        :rtype: List[int]\n",
    "        \"\"\" \n",
    "        resultat = []\n",
    "\n",
    "        for i in range(len(nums)):\n",
    "            for j in range(1,len(nums)):\n",
    "                if nums[i] + nums[j] == target:\n",
    "                    resultat = [i,j]\n",
    "                    return resultat \n",
    "        return resultat"
   ]
  },
  {
   "cell_type": "code",
   "execution_count": null,
   "metadata": {
    "vscode": {
     "languageId": "plaintext"
    }
   },
   "outputs": [],
   "source": [
    "class Solution(object):\n",
    "    def twoSum(self, nums, target):\n",
    "        \"\"\"\n",
    "        :type nums: List[int]\n",
    "        :type target: int\n",
    "        :rtype: List[int]\n",
    "        \"\"\" \n",
    "        resultat = []\n",
    "\n",
    "        for i, num in enumerate(nums):\n",
    "           nombre = target - num\n",
    "           if nombre in nums[i+1:]:\n",
    "                return [i,nums.index(nombre,i+1)]\n",
    "        return resultat"
   ]
  }
 ],
 "metadata": {
  "language_info": {
   "name": "python"
  }
 },
 "nbformat": 4,
 "nbformat_minor": 2
}
