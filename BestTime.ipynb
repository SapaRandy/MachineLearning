{
 "cells": [
  {
   "cell_type": "code",
   "execution_count": null,
   "metadata": {
    "vscode": {
     "languageId": "plaintext"
    }
   },
   "outputs": [],
   "source": [
    "class Solution(object):\n",
    "    def maxProfit(self, prices):\n",
    "        \"\"\"\n",
    "        :type prices: List[int]\n",
    "        :rtype: int\n",
    "        \"\"\"\n",
    "        maximum = 0\n",
    "        min_price = prices[0]\n",
    "\n",
    "        for price in prices:\n",
    "            potential_profit = price - min_price\n",
    "            maximum = max(maximum, potential_profit)\n",
    "            min_price = min(min_price, price)\n",
    "        return maximum\n",
    "\n",
    "        "
   ]
  }
 ],
 "metadata": {
  "language_info": {
   "name": "python"
  }
 },
 "nbformat": 4,
 "nbformat_minor": 2
}
