{
 "cells": [
  {
   "cell_type": "code",
   "execution_count": 19,
   "metadata": {},
   "outputs": [
    {
     "name": "stdout",
     "output_type": "stream",
     "text": [
      "34\n",
      "610\n"
     ]
    }
   ],
   "source": [
    "def Fibonacci(n):\n",
    "    if n == 0: \n",
    "        return 0\n",
    "    if n == 1: \n",
    "        return 1\n",
    "    fibo = {0:0,1:1}\n",
    "    \n",
    "    for i in range(2, n+1):\n",
    "        fibo[i] = fibo[i-1] + fibo[i-2]\n",
    "    \n",
    "    return fibo[n]\n",
    "    \n",
    "\n",
    "print(Fibonacci(9))\n",
    "print(Fibonacci(15))\n",
    "\n",
    "    "
   ]
  },
  {
   "cell_type": "code",
   "execution_count": 21,
   "metadata": {},
   "outputs": [
    {
     "name": "stdout",
     "output_type": "stream",
     "text": [
      "0\n"
     ]
    }
   ],
   "source": [
    "def Tri():\n",
    "    tab = [-10, -5, -3, -1, 0, 1, 2, 3, 4, 5]\n",
    "\n",
    "    a = 0\n",
    "    b = len(tab) - 1\n",
    "\n",
    "    while True:\n",
    "        h = (a + b) // 2\n",
    "        if tab[h] == 0:\n",
    "            return h\n",
    "        if tab[h] > 0:\n",
    "            b = h\n",
    "        if tab[h] < 0:\n",
    "            a = h\n",
    "\n",
    "print(Tri())"
   ]
  }
 ],
 "metadata": {
  "kernelspec": {
   "display_name": "Python 3",
   "language": "python",
   "name": "python3"
  },
  "language_info": {
   "codemirror_mode": {
    "name": "ipython",
    "version": 3
   },
   "file_extension": ".py",
   "mimetype": "text/x-python",
   "name": "python",
   "nbconvert_exporter": "python",
   "pygments_lexer": "ipython3",
   "version": "3.11.4"
  }
 },
 "nbformat": 4,
 "nbformat_minor": 2
}
