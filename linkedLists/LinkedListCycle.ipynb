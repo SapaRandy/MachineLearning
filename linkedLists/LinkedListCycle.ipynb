{
 "cells": [
  {
   "cell_type": "code",
   "execution_count": null,
   "metadata": {
    "vscode": {
     "languageId": "plaintext"
    }
   },
   "outputs": [],
   "source": [
    "# Definition for singly-linked list.\n",
    "# class ListNode(object):\n",
    "#     def __init__(self, x):\n",
    "#         self.val = x\n",
    "#         self.next = None\n",
    "\n",
    "class Solution(object):\n",
    "    def hasCycle(self, head):\n",
    "        \"\"\"\n",
    "        :type head: ListNode\n",
    "        :rtype: bool\n",
    "        \"\"\"\n",
    "\n",
    "        if not head or not head.next:\n",
    "            return False\n",
    "\n",
    "        pHead = head   \n",
    "        fHead = head.next\n",
    "\n",
    "        while pHead != fHead:\n",
    "            if not fHead or not fHead.next:\n",
    "                return False\n",
    "            pHead = pHead.next\n",
    "            fHead = fHead.next.next\n",
    "        \n",
    "        return True\n",
    "        "
   ]
  }
 ],
 "metadata": {
  "language_info": {
   "name": "python"
  }
 },
 "nbformat": 4,
 "nbformat_minor": 2
}
