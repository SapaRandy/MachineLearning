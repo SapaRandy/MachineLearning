{
 "cells": [
  {
   "cell_type": "code",
   "execution_count": null,
   "metadata": {},
   "outputs": [],
   "source": [
    "t = [2,3,-8,7,-1,2,3]\n",
    "\n",
    "total = 0\n",
    "maximum = float('-inf')\n",
    "position = 0\n",
    "\n",
    "for x in range(len(t)):\n",
    "    i = sum(t[x:])\n",
    "    if i > maximum:\n",
    "        maximum = i\n",
    "        position = x\n",
    "\n",
    "print(maximum)\n",
    "print(t[position:])"
   ]
  },
  {
   "cell_type": "code",
   "execution_count": 44,
   "metadata": {},
   "outputs": [
    {
     "name": "stdout",
     "output_type": "stream",
     "text": [
      "[2, 3, -8, 7, -1, 2, 3]\n",
      "2\n",
      "2\n",
      "5\n",
      "5\n",
      "-3\n",
      "5\n",
      "4\n",
      "5\n",
      "3\n",
      "5\n",
      "5\n",
      "5\n",
      "8\n",
      "8\n",
      "8\n",
      "[2, 3, -8, 7, -1, 2, 3]\n"
     ]
    }
   ],
   "source": [
    "t = [2,3,-8,7,-1,2,3]\n",
    "\n",
    "total = 0\n",
    "maximum = float('-inf')\n",
    "position = 0\n",
    "i = 0\n",
    "\n",
    "print(t)\n",
    "for x in range(0,len(t)):\n",
    "    i += t[x] \n",
    "    maximum = max(i,maximum)\n",
    "    print(i)\n",
    "    print(maximum)\n",
    "    if i > maximum:\n",
    "        maximum = i\n",
    "        position = x\n",
    "\n",
    "print(maximum)\n",
    "print(t[position:])"
   ]
  }
 ],
 "metadata": {
  "kernelspec": {
   "display_name": "Python 3",
   "language": "python",
   "name": "python3"
  },
  "language_info": {
   "codemirror_mode": {
    "name": "ipython",
    "version": 3
   },
   "file_extension": ".py",
   "mimetype": "text/x-python",
   "name": "python",
   "nbconvert_exporter": "python",
   "pygments_lexer": "ipython3",
   "version": "3.11.4"
  }
 },
 "nbformat": 4,
 "nbformat_minor": 2
}
