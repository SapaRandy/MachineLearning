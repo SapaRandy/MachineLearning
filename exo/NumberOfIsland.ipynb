{
 "cells": [
  {
   "cell_type": "code",
   "execution_count": null,
   "metadata": {
    "vscode": {
     "languageId": "plaintext"
    }
   },
   "outputs": [],
   "source": [
    "class Solution(object):\n",
    "    def numIslands(self, grid):\n",
    "        \"\"\"\n",
    "        :type grid: List[List[str]]\n",
    "        :rtype: int\n",
    "        \"\"\"\n",
    "        n = len(grid)\n",
    "        m = len(grid[0])\n",
    "        nombre = 0\n",
    "        maximum = 0\n",
    "        nbIsland=0\n",
    "        map = {}\n",
    "\n",
    "        def dfs(i,j):\n",
    "            if i<0 or i>=n or j<0 or j>=m or grid[i][j] == '0':\n",
    "                return 0\n",
    "            \n",
    "            grid[i][j]='0'\n",
    "            compteur = 1\n",
    "            compteur += dfs(i+1,j)\n",
    "            compteur += dfs(i-1,j)\n",
    "            compteur += dfs(i,j-1)\n",
    "            compteur += dfs(i,j+1)\n",
    "            return compteur\n",
    "\n",
    "        for i in range(n):\n",
    "            for j in range(m):\n",
    "                if grid[i][j] == '1':\n",
    "                    nombre += 1\n",
    "                    taille = dfs(i,j)\n",
    "                    nbIsland += 1\n",
    "                \n",
    "\n",
    "                map[nbIsland] = taille\n",
    "                maximum = max(map.values())\n",
    "                    \n",
    "        print(nombre)\n",
    "        print(map)\n",
    "        print(maximum)\n",
    "        return nombre\n",
    "        "
   ]
  }
 ],
 "metadata": {
  "language_info": {
   "name": "python"
  }
 },
 "nbformat": 4,
 "nbformat_minor": 2
}
